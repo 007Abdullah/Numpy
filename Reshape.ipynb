{
 "cells": [
  {
   "cell_type": "code",
   "execution_count": 1,
   "metadata": {},
   "outputs": [],
   "source": [
    "import numpy as np"
   ]
  },
  {
   "cell_type": "code",
   "execution_count": 2,
   "metadata": {},
   "outputs": [],
   "source": [
    "x = np.random.randn(4,5)"
   ]
  },
  {
   "cell_type": "code",
   "execution_count": 3,
   "metadata": {},
   "outputs": [
    {
     "data": {
      "text/plain": [
       "array([[-0.09904326,  0.88830506,  0.33312055,  0.29230845,  0.05459217],\n",
       "       [ 2.16793879,  2.08966218,  0.24741964, -0.45067753,  0.81212203],\n",
       "       [ 0.93631317,  0.31649498, -1.76689568, -1.019258  , -1.03788382],\n",
       "       [-0.36138598, -1.84807688,  1.00398769, -0.31972269,  0.6145539 ]])"
      ]
     },
     "execution_count": 3,
     "metadata": {},
     "output_type": "execute_result"
    }
   ],
   "source": [
    "x"
   ]
  },
  {
   "cell_type": "code",
   "execution_count": 5,
   "metadata": {},
   "outputs": [
    {
     "data": {
      "text/plain": [
       "array([[[-0.09904326,  0.88830506,  0.33312055,  0.29230845,\n",
       "          0.05459217],\n",
       "        [ 2.16793879,  2.08966218,  0.24741964, -0.45067753,\n",
       "          0.81212203]],\n",
       "\n",
       "       [[ 0.93631317,  0.31649498, -1.76689568, -1.019258  ,\n",
       "         -1.03788382],\n",
       "        [-0.36138598, -1.84807688,  1.00398769, -0.31972269,\n",
       "          0.6145539 ]]])"
      ]
     },
     "execution_count": 5,
     "metadata": {},
     "output_type": "execute_result"
    }
   ],
   "source": [
    "x.reshape(2,2,5) # by default is nai row order ma print kara han"
   ]
  },
  {
   "cell_type": "code",
   "execution_count": 7,
   "metadata": {},
   "outputs": [
    {
     "data": {
      "text/plain": [
       "array([[[-0.09904326,  0.88830506,  0.33312055,  0.29230845,\n",
       "          0.05459217],\n",
       "        [ 0.93631317,  0.31649498, -1.76689568, -1.019258  ,\n",
       "         -1.03788382]],\n",
       "\n",
       "       [[ 2.16793879,  2.08966218,  0.24741964, -0.45067753,\n",
       "          0.81212203],\n",
       "        [-0.36138598, -1.84807688,  1.00398769, -0.31972269,\n",
       "          0.6145539 ]]])"
      ]
     },
     "execution_count": 7,
     "metadata": {},
     "output_type": "execute_result"
    }
   ],
   "source": [
    "x.reshape((2,2,5),order=\"f\") # ya hum nai column order bata deya"
   ]
  },
  {
   "cell_type": "code",
   "execution_count": 10,
   "metadata": {},
   "outputs": [
    {
     "data": {
      "text/plain": [
       "array([[[-0.09904326,  0.88830506,  0.33312055,  0.29230845,\n",
       "          0.05459217],\n",
       "        [ 2.16793879,  2.08966218,  0.24741964, -0.45067753,\n",
       "          0.81212203]],\n",
       "\n",
       "       [[ 0.93631317,  0.31649498, -1.76689568, -1.019258  ,\n",
       "         -1.03788382],\n",
       "        [-0.36138598, -1.84807688,  1.00398769, -0.31972269,\n",
       "          0.6145539 ]]])"
      ]
     },
     "execution_count": 10,
     "metadata": {},
     "output_type": "execute_result"
    }
   ],
   "source": [
    "x.reshape(2,2,-1) #  is nai khude ak dimention skip karde han"
   ]
  },
  {
   "cell_type": "code",
   "execution_count": 11,
   "metadata": {},
   "outputs": [
    {
     "data": {
      "text/plain": [
       "array([[-0.09904326,  0.88830506,  0.33312055,  0.29230845,  0.05459217],\n",
       "       [ 2.16793879,  2.08966218,  0.24741964, -0.45067753,  0.81212203],\n",
       "       [ 0.93631317,  0.31649498, -1.76689568, -1.019258  , -1.03788382],\n",
       "       [-0.36138598, -1.84807688,  1.00398769, -0.31972269,  0.6145539 ]])"
      ]
     },
     "execution_count": 11,
     "metadata": {},
     "output_type": "execute_result"
    }
   ],
   "source": [
    "x"
   ]
  },
  {
   "cell_type": "code",
   "execution_count": 12,
   "metadata": {},
   "outputs": [],
   "source": [
    " # ab ma chata han ya porii ak he dimisrion ma change ho jay tu mujha ravel or flatten k funcation use karna hoga "
   ]
  },
  {
   "cell_type": "code",
   "execution_count": 13,
   "metadata": {},
   "outputs": [
    {
     "data": {
      "text/plain": [
       "array([-0.09904326,  0.88830506,  0.33312055,  0.29230845,  0.05459217,\n",
       "        2.16793879,  2.08966218,  0.24741964, -0.45067753,  0.81212203,\n",
       "        0.93631317,  0.31649498, -1.76689568, -1.019258  , -1.03788382,\n",
       "       -0.36138598, -1.84807688,  1.00398769, -0.31972269,  0.6145539 ])"
      ]
     },
     "execution_count": 13,
     "metadata": {},
     "output_type": "execute_result"
    }
   ],
   "source": [
    "x.ravel()"
   ]
  },
  {
   "cell_type": "code",
   "execution_count": 14,
   "metadata": {},
   "outputs": [
    {
     "data": {
      "text/plain": [
       "array([-0.09904326,  0.88830506,  0.33312055,  0.29230845,  0.05459217,\n",
       "        2.16793879,  2.08966218,  0.24741964, -0.45067753,  0.81212203,\n",
       "        0.93631317,  0.31649498, -1.76689568, -1.019258  , -1.03788382,\n",
       "       -0.36138598, -1.84807688,  1.00398769, -0.31972269,  0.6145539 ])"
      ]
     },
     "execution_count": 14,
     "metadata": {},
     "output_type": "execute_result"
    }
   ],
   "source": [
    "x.flatten()"
   ]
  },
  {
   "cell_type": "code",
   "execution_count": null,
   "metadata": {},
   "outputs": [],
   "source": []
  }
 ],
 "metadata": {
  "kernelspec": {
   "display_name": "Python 3",
   "language": "python",
   "name": "python3"
  },
  "language_info": {
   "codemirror_mode": {
    "name": "ipython",
    "version": 3
   },
   "file_extension": ".py",
   "mimetype": "text/x-python",
   "name": "python",
   "nbconvert_exporter": "python",
   "pygments_lexer": "ipython3",
   "version": "3.7.3"
  }
 },
 "nbformat": 4,
 "nbformat_minor": 2
}
