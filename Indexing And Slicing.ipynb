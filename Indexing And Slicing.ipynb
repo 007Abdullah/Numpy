{
 "cells": [
  {
   "cell_type": "code",
   "execution_count": 1,
   "metadata": {},
   "outputs": [],
   "source": [
    "import numpy as np"
   ]
  },
  {
   "cell_type": "code",
   "execution_count": 2,
   "metadata": {},
   "outputs": [],
   "source": [
    "# numpy ma be indexing same ase he ho ge jaisa list ma hotii the 0 sa start"
   ]
  },
  {
   "cell_type": "code",
   "execution_count": 3,
   "metadata": {},
   "outputs": [],
   "source": [
    "# start end step ya 3 no slicing ma hoty han"
   ]
  },
  {
   "cell_type": "code",
   "execution_count": 4,
   "metadata": {},
   "outputs": [],
   "source": [
    "# slicong 0 sa start hotii han postive sa tu or negative sa -1 sa start hoti han"
   ]
  },
  {
   "cell_type": "code",
   "execution_count": 9,
   "metadata": {},
   "outputs": [],
   "source": [
    "x = np.array([1,2,7,9,5,6])"
   ]
  },
  {
   "cell_type": "code",
   "execution_count": 10,
   "metadata": {},
   "outputs": [
    {
     "data": {
      "text/plain": [
       "5"
      ]
     },
     "execution_count": 10,
     "metadata": {},
     "output_type": "execute_result"
    }
   ],
   "source": [
    "x[4]"
   ]
  },
  {
   "cell_type": "code",
   "execution_count": 11,
   "metadata": {},
   "outputs": [
    {
     "data": {
      "text/plain": [
       "array([False, False,  True,  True, False,  True])"
      ]
     },
     "execution_count": 11,
     "metadata": {},
     "output_type": "execute_result"
    }
   ],
   "source": [
    "x>5"
   ]
  },
  {
   "cell_type": "code",
   "execution_count": 12,
   "metadata": {},
   "outputs": [
    {
     "data": {
      "text/plain": [
       "array([7, 9, 6])"
      ]
     },
     "execution_count": 12,
     "metadata": {},
     "output_type": "execute_result"
    }
   ],
   "source": [
    "x[x>5]"
   ]
  },
  {
   "cell_type": "markdown",
   "metadata": {},
   "source": [
    "# fancy indexing"
   ]
  },
  {
   "cell_type": "code",
   "execution_count": 15,
   "metadata": {},
   "outputs": [
    {
     "data": {
      "text/plain": [
       "array([2, 7, 6])"
      ]
     },
     "execution_count": 15,
     "metadata": {},
     "output_type": "execute_result"
    }
   ],
   "source": [
    "x[[1,2,5]] # ya iskae andr jitnay be pass karay han wo index pass karay han ya index kii value lay kar a raha han"
   ]
  },
  {
   "cell_type": "code",
   "execution_count": 17,
   "metadata": {},
   "outputs": [
    {
     "ename": "IndexError",
     "evalue": "too many indices for array",
     "output_type": "error",
     "traceback": [
      "\u001b[1;31m---------------------------------------------------------------------------\u001b[0m",
      "\u001b[1;31mIndexError\u001b[0m                                Traceback (most recent call last)",
      "\u001b[1;32m<ipython-input-17-cfb0c6aad19f>\u001b[0m in \u001b[0;36m<module>\u001b[1;34m\u001b[0m\n\u001b[1;32m----> 1\u001b[1;33m \u001b[0mx\u001b[0m\u001b[1;33m[\u001b[0m\u001b[1;36m1\u001b[0m\u001b[1;33m,\u001b[0m\u001b[1;36m2\u001b[0m\u001b[1;33m]\u001b[0m \u001b[1;31m#agar asa pas ar raha ho a=error a raha han or yahe kaam fancy indexing sa karo ga tu 4n ho ja ga\u001b[0m\u001b[1;33m\u001b[0m\u001b[1;33m\u001b[0m\u001b[0m\n\u001b[0m",
      "\u001b[1;31mIndexError\u001b[0m: too many indices for array"
     ]
    }
   ],
   "source": [
    "x[1,2] #agar asa pas ar raha ho a=error a raha han or yahe kaam fancy indexing sa karo ga tu 4n ho ja ga"
   ]
  },
  {
   "cell_type": "code",
   "execution_count": 18,
   "metadata": {},
   "outputs": [],
   "source": [
    "x = np.random.randn(10,10)"
   ]
  },
  {
   "cell_type": "code",
   "execution_count": 19,
   "metadata": {},
   "outputs": [
    {
     "data": {
      "text/plain": [
       "array([[-0.46512157, -0.38952353,  0.50226657, -0.74182008,  1.30344875,\n",
       "        -0.0182161 ,  0.3055409 ,  0.60876867,  0.52734617, -0.09250395],\n",
       "       [ 1.49424997, -1.64379346,  0.67843821,  0.3497375 , -0.91985566,\n",
       "         1.57034697,  0.35266512,  0.18775711,  0.4295902 ,  1.91083333],\n",
       "       [-1.53530542,  1.11950399, -0.08930885,  0.2003807 , -0.00531852,\n",
       "        -0.33962006, -1.17661868,  1.24879364, -0.0568625 ,  0.6175858 ],\n",
       "       [ 0.42254107, -0.29827044,  0.52701763, -1.49429383,  0.19607817,\n",
       "        -0.07836426,  0.24751847, -0.58109373,  0.8044925 ,  0.88357978],\n",
       "       [-1.08418968,  2.18428285, -2.03256513,  1.41148828,  0.89860195,\n",
       "        -0.44494486, -0.73762829,  0.27566847,  0.50819057, -0.59761385],\n",
       "       [-1.18095622,  1.70687484, -1.01858322,  0.57171936,  0.30432911,\n",
       "         0.17445684, -0.27413717,  0.85724039, -0.88612468,  0.65783879],\n",
       "       [ 0.6053738 ,  0.51193411,  1.78629364, -1.68054222,  0.68209503,\n",
       "         0.19579164, -0.917402  ,  0.27026965,  0.21894474,  1.02983385],\n",
       "       [ 0.11690937, -0.86588429,  0.10575294,  2.0047939 , -0.27677158,\n",
       "         0.14557435, -0.68353075, -0.73796945, -0.55183682, -0.11110656],\n",
       "       [ 0.49029058,  1.63391526, -1.24080459,  0.68444398,  2.04412775,\n",
       "         0.71433976,  0.6139547 , -0.3268507 ,  0.33204369, -1.39863413],\n",
       "       [ 1.03291014, -1.46494237, -0.97853767,  0.91187196,  0.56197157,\n",
       "        -0.52224011,  0.02887578,  2.31600172,  0.00791171, -0.96045816]])"
      ]
     },
     "execution_count": 19,
     "metadata": {},
     "output_type": "execute_result"
    }
   ],
   "source": [
    "x"
   ]
  },
  {
   "cell_type": "code",
   "execution_count": 20,
   "metadata": {},
   "outputs": [
    {
     "data": {
      "text/plain": [
       "array([-0.46512157, -0.38952353,  0.50226657, -0.74182008,  1.30344875,\n",
       "       -0.0182161 ,  0.3055409 ,  0.60876867,  0.52734617, -0.09250395])"
      ]
     },
     "execution_count": 20,
     "metadata": {},
     "output_type": "execute_result"
    }
   ],
   "source": [
    "x[0]"
   ]
  },
  {
   "cell_type": "code",
   "execution_count": 23,
   "metadata": {},
   "outputs": [
    {
     "data": {
      "text/plain": [
       "array([ 1.03291014, -1.46494237, -0.97853767,  0.91187196,  0.56197157,\n",
       "       -0.52224011,  0.02887578,  2.31600172,  0.00791171, -0.96045816])"
      ]
     },
     "execution_count": 23,
     "metadata": {},
     "output_type": "execute_result"
    }
   ],
   "source": [
    "x[9]"
   ]
  },
  {
   "cell_type": "code",
   "execution_count": 24,
   "metadata": {},
   "outputs": [],
   "source": [
    "# ab ma chata ho 1 row ka 5 column a jay"
   ]
  },
  {
   "cell_type": "code",
   "execution_count": 27,
   "metadata": {},
   "outputs": [
    {
     "data": {
      "text/plain": [
       "1.3034487453274397"
      ]
     },
     "execution_count": 27,
     "metadata": {},
     "output_type": "execute_result"
    }
   ],
   "source": [
    "x[0][4]"
   ]
  },
  {
   "cell_type": "code",
   "execution_count": 33,
   "metadata": {},
   "outputs": [
    {
     "data": {
      "text/plain": [
       "array([[-0.46512157, -0.38952353,  0.50226657, -0.74182008,  1.30344875,\n",
       "        -0.0182161 ,  0.3055409 ,  0.60876867,  0.52734617, -0.09250395],\n",
       "       [-1.53530542,  1.11950399, -0.08930885,  0.2003807 , -0.00531852,\n",
       "        -0.33962006, -1.17661868,  1.24879364, -0.0568625 ,  0.6175858 ],\n",
       "       [-1.08418968,  2.18428285, -2.03256513,  1.41148828,  0.89860195,\n",
       "        -0.44494486, -0.73762829,  0.27566847,  0.50819057, -0.59761385],\n",
       "       [ 0.6053738 ,  0.51193411,  1.78629364, -1.68054222,  0.68209503,\n",
       "         0.19579164, -0.917402  ,  0.27026965,  0.21894474,  1.02983385],\n",
       "       [ 0.49029058,  1.63391526, -1.24080459,  0.68444398,  2.04412775,\n",
       "         0.71433976,  0.6139547 , -0.3268507 ,  0.33204369, -1.39863413]])"
      ]
     },
     "execution_count": 33,
     "metadata": {},
     "output_type": "execute_result"
    }
   ],
   "source": [
    "x[0:10:2,::] # ya jo 0 sa start kara han starting value han or jo end han wo 10 han or 2 jo han wo step han or , kaha tak chahiye pora tu :: laga dayna han"
   ]
  },
  {
   "cell_type": "code",
   "execution_count": 42,
   "metadata": {},
   "outputs": [
    {
     "data": {
      "text/plain": [
       "array([[-0.46512157, -0.38952353,  0.50226657, -0.74182008,  1.30344875],\n",
       "       [ 1.49424997, -1.64379346,  0.67843821,  0.3497375 , -0.91985566],\n",
       "       [-1.53530542,  1.11950399, -0.08930885,  0.2003807 , -0.00531852],\n",
       "       [ 0.42254107, -0.29827044,  0.52701763, -1.49429383,  0.19607817],\n",
       "       [-1.08418968,  2.18428285, -2.03256513,  1.41148828,  0.89860195],\n",
       "       [-1.18095622,  1.70687484, -1.01858322,  0.57171936,  0.30432911],\n",
       "       [ 0.6053738 ,  0.51193411,  1.78629364, -1.68054222,  0.68209503],\n",
       "       [ 0.11690937, -0.86588429,  0.10575294,  2.0047939 , -0.27677158],\n",
       "       [ 0.49029058,  1.63391526, -1.24080459,  0.68444398,  2.04412775],\n",
       "       [ 1.03291014, -1.46494237, -0.97853767,  0.91187196,  0.56197157]])"
      ]
     },
     "execution_count": 42,
     "metadata": {},
     "output_type": "execute_result"
    }
   ],
   "source": [
    "x[::,0:5]"
   ]
  },
  {
   "cell_type": "code",
   "execution_count": 169,
   "metadata": {},
   "outputs": [],
   "source": [
    "x = np.ones((5,5))"
   ]
  },
  {
   "cell_type": "code",
   "execution_count": 133,
   "metadata": {},
   "outputs": [
    {
     "data": {
      "text/plain": [
       "array([[2., 2., 2., 2., 5.],\n",
       "       [2., 2., 2., 2., 5.],\n",
       "       [2., 2., 2., 2., 5.],\n",
       "       [2., 2., 2., 2., 5.],\n",
       "       [2., 2., 2., 2., 5.]])"
      ]
     },
     "execution_count": 133,
     "metadata": {},
     "output_type": "execute_result"
    }
   ],
   "source": [
    "x"
   ]
  },
  {
   "cell_type": "code",
   "execution_count": 56,
   "metadata": {},
   "outputs": [
    {
     "data": {
      "text/plain": [
       "array([[1., 1., 1.],\n",
       "       [1., 1., 1.],\n",
       "       [1., 1., 1.]])"
      ]
     },
     "execution_count": 56,
     "metadata": {},
     "output_type": "execute_result"
    }
   ],
   "source": [
    "x[1:-1,1:-1] # 1 jo mtlb phlii row : -1 phir akhrii row phir , 1 column phir : -1 akhrii column"
   ]
  },
  {
   "cell_type": "code",
   "execution_count": 117,
   "metadata": {},
   "outputs": [
    {
     "data": {
      "text/plain": [
       "array([[0., 0., 0., 0., 0.],\n",
       "       [0., 0., 0., 0., 0.],\n",
       "       [5., 5., 5., 5., 5.],\n",
       "       [5., 5., 5., 5., 5.],\n",
       "       [5., 5., 5., 5., 5.]])"
      ]
     },
     "execution_count": 117,
     "metadata": {},
     "output_type": "execute_result"
    }
   ],
   "source": [
    "x[1:-101:-1] = 0\n",
    "x"
   ]
  },
  {
   "cell_type": "code",
   "execution_count": 96,
   "metadata": {},
   "outputs": [],
   "source": [
    "x[0:5,0:5] = 1"
   ]
  },
  {
   "cell_type": "code",
   "execution_count": 167,
   "metadata": {},
   "outputs": [],
   "source": [
    "x[0:5,-1:] = 5"
   ]
  },
  {
   "cell_type": "code",
   "execution_count": 168,
   "metadata": {},
   "outputs": [
    {
     "data": {
      "text/plain": [
       "array([[2., 2., 2., 2., 5.],\n",
       "       [2., 2., 2., 2., 5.],\n",
       "       [2., 2., 2., 2., 5.],\n",
       "       [2., 2., 2., 2., 5.],\n",
       "       [0., 2., 2., 2., 5.]])"
      ]
     },
     "execution_count": 168,
     "metadata": {},
     "output_type": "execute_result"
    }
   ],
   "source": [
    "x"
   ]
  },
  {
   "cell_type": "code",
   "execution_count": 161,
   "metadata": {},
   "outputs": [],
   "source": [
    "x[0:5,1:5] = 0"
   ]
  },
  {
   "cell_type": "code",
   "execution_count": 162,
   "metadata": {},
   "outputs": [
    {
     "data": {
      "text/plain": [
       "array([[2., 0., 0., 0., 0.],\n",
       "       [2., 0., 0., 0., 0.],\n",
       "       [2., 0., 0., 0., 0.],\n",
       "       [2., 0., 0., 0., 0.],\n",
       "       [0., 0., 0., 0., 0.]])"
      ]
     },
     "execution_count": 162,
     "metadata": {},
     "output_type": "execute_result"
    }
   ],
   "source": [
    "x"
   ]
  },
  {
   "cell_type": "code",
   "execution_count": 165,
   "metadata": {},
   "outputs": [],
   "source": [
    "x[0:5,1:5] = 2"
   ]
  },
  {
   "cell_type": "code",
   "execution_count": 166,
   "metadata": {},
   "outputs": [
    {
     "data": {
      "text/plain": [
       "array([[2., 2., 2., 2., 2.],\n",
       "       [2., 2., 2., 2., 2.],\n",
       "       [2., 2., 2., 2., 2.],\n",
       "       [2., 2., 2., 2., 2.],\n",
       "       [0., 2., 2., 2., 2.]])"
      ]
     },
     "execution_count": 166,
     "metadata": {},
     "output_type": "execute_result"
    }
   ],
   "source": [
    "x"
   ]
  },
  {
   "cell_type": "code",
   "execution_count": 170,
   "metadata": {},
   "outputs": [
    {
     "data": {
      "text/plain": [
       "array([[1., 1., 1., 1., 1.],\n",
       "       [1., 1., 1., 1., 1.],\n",
       "       [1., 1., 1., 1., 1.],\n",
       "       [1., 1., 1., 1., 1.],\n",
       "       [1., 1., 1., 1., 1.]])"
      ]
     },
     "execution_count": 170,
     "metadata": {},
     "output_type": "execute_result"
    }
   ],
   "source": [
    "x"
   ]
  },
  {
   "cell_type": "code",
   "execution_count": 173,
   "metadata": {},
   "outputs": [
    {
     "data": {
      "text/plain": [
       "array([[1., 1., 1.],\n",
       "       [1., 1., 1.],\n",
       "       [1., 1., 1.]])"
      ]
     },
     "execution_count": 173,
     "metadata": {},
     "output_type": "execute_result"
    }
   ],
   "source": [
    "x[2:5,1:4]"
   ]
  },
  {
   "cell_type": "code",
   "execution_count": 186,
   "metadata": {},
   "outputs": [],
   "source": [
    "x[1:5,1:-1] = 1"
   ]
  },
  {
   "cell_type": "code",
   "execution_count": 187,
   "metadata": {},
   "outputs": [
    {
     "data": {
      "text/plain": [
       "array([[1., 0., 0., 0., 1.],\n",
       "       [1., 1., 1., 1., 1.],\n",
       "       [1., 1., 1., 1., 1.],\n",
       "       [1., 1., 1., 1., 1.],\n",
       "       [1., 1., 1., 1., 1.]])"
      ]
     },
     "execution_count": 187,
     "metadata": {},
     "output_type": "execute_result"
    }
   ],
   "source": [
    "x"
   ]
  },
  {
   "cell_type": "code",
   "execution_count": null,
   "metadata": {},
   "outputs": [],
   "source": [
    "array = "
   ]
  }
 ],
 "metadata": {
  "kernelspec": {
   "display_name": "Python 3",
   "language": "python",
   "name": "python3"
  },
  "language_info": {
   "codemirror_mode": {
    "name": "ipython",
    "version": 3
   },
   "file_extension": ".py",
   "mimetype": "text/x-python",
   "name": "python",
   "nbconvert_exporter": "python",
   "pygments_lexer": "ipython3",
   "version": "3.7.3"
  }
 },
 "nbformat": 4,
 "nbformat_minor": 2
}
