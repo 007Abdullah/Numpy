{
 "cells": [
  {
   "cell_type": "code",
   "execution_count": 1,
   "metadata": {},
   "outputs": [],
   "source": [
    "import numpy as np"
   ]
  },
  {
   "cell_type": "code",
   "execution_count": 3,
   "metadata": {},
   "outputs": [],
   "source": [
    "l = range(1000000)"
   ]
  },
  {
   "cell_type": "code",
   "execution_count": 7,
   "metadata": {},
   "outputs": [
    {
     "name": "stdout",
     "output_type": "stream",
     "text": [
      "Wall time: 2.38 s\n"
     ]
    }
   ],
   "source": [
    "%time for i in range(1,10):r=[x*2 for x in l]"
   ]
  },
  {
   "cell_type": "code",
   "execution_count": 9,
   "metadata": {},
   "outputs": [
    {
     "name": "stdout",
     "output_type": "stream",
     "text": [
      "Wall time: 108 ms\n"
     ]
    }
   ],
   "source": [
    "%time for i in range(1,10):r=d*2"
   ]
  },
  {
   "cell_type": "code",
   "execution_count": null,
   "metadata": {},
   "outputs": [],
   "source": []
  },
  {
   "cell_type": "code",
   "execution_count": 5,
   "metadata": {},
   "outputs": [],
   "source": [
    "d = np.arange(1000000)"
   ]
  },
  {
   "cell_type": "code",
   "execution_count": 11,
   "metadata": {},
   "outputs": [],
   "source": [
    "x = np.zeros((4,4))"
   ]
  },
  {
   "cell_type": "code",
   "execution_count": 12,
   "metadata": {},
   "outputs": [
    {
     "data": {
      "text/plain": [
       "array([[0., 0., 0., 0.],\n",
       "       [0., 0., 0., 0.],\n",
       "       [0., 0., 0., 0.],\n",
       "       [0., 0., 0., 0.]])"
      ]
     },
     "execution_count": 12,
     "metadata": {},
     "output_type": "execute_result"
    }
   ],
   "source": [
    "x"
   ]
  },
  {
   "cell_type": "code",
   "execution_count": 13,
   "metadata": {},
   "outputs": [],
   "source": [
    "s = np.ones((5,5))"
   ]
  },
  {
   "cell_type": "code",
   "execution_count": 14,
   "metadata": {},
   "outputs": [
    {
     "data": {
      "text/plain": [
       "array([[1., 1., 1., 1., 1.],\n",
       "       [1., 1., 1., 1., 1.],\n",
       "       [1., 1., 1., 1., 1.],\n",
       "       [1., 1., 1., 1., 1.],\n",
       "       [1., 1., 1., 1., 1.]])"
      ]
     },
     "execution_count": 14,
     "metadata": {},
     "output_type": "execute_result"
    }
   ],
   "source": [
    "s"
   ]
  },
  {
   "cell_type": "code",
   "execution_count": 17,
   "metadata": {},
   "outputs": [
    {
     "data": {
      "text/plain": [
       "array([[             nan,  6.89903272e-310,  4.01181304e-321,\n",
       "         1.97626258e-323,  4.42682819e-321,  4.76223221e-287,\n",
       "         4.20943930e-321],\n",
       "       [ 7.93544645e-301,  3.87347466e-321,  7.93544645e-301,\n",
       "         3.85371204e-321,  1.34047035e-272,  2.84581812e-321,\n",
       "         1.69265300e-258],\n",
       "       [ 5.43472210e-321,  1.29457963e-272,  5.45448473e-321,\n",
       "         2.49612436e-306,  4.01181304e-321,  1.29620431e-272,\n",
       "         5.71139887e-321],\n",
       "       [ 7.53790860e-244,  5.61258574e-321, -7.31469412e-114,\n",
       "         4.01181304e-321,  3.48014949e-308,  3.47748437e-308,\n",
       "         4.63524825e-273],\n",
       "       [ 1.32122555e-228,  1.64643684e-287,  1.29397745e-272,\n",
       "         1.34065087e-272,  1.63535102e-301,  8.86040129e-220,\n",
       "         1.29440476e-272],\n",
       "       [ 2.78137431e-308,  1.63786265e-301,  2.04564941e-277,\n",
       "         1.29405083e-272,  2.43550680e-209,  3.75833466e-308,\n",
       "         4.87548614e+127],\n",
       "       [ 7.26883240e-249,  1.43246684e-277,  7.26883230e-249,\n",
       "         2.04512008e-277,  4.22972507e-307,  5.83326707e-302,\n",
       "         1.33370847e+241]])"
      ]
     },
     "execution_count": 17,
     "metadata": {},
     "output_type": "execute_result"
    }
   ],
   "source": [
    "np.empty((7,7)) # ya kuch be value khud be output day ga randomly kuch be lay kar ay ga"
   ]
  },
  {
   "cell_type": "markdown",
   "metadata": {},
   "source": [
    "# Converd list To Numpy list"
   ]
  },
  {
   "cell_type": "code",
   "execution_count": 19,
   "metadata": {},
   "outputs": [],
   "source": [
    "l = [1,2,3,4,5,6,7]"
   ]
  },
  {
   "cell_type": "code",
   "execution_count": 21,
   "metadata": {},
   "outputs": [
    {
     "data": {
      "text/plain": [
       "array([1, 2, 3, 4, 5, 6, 7])"
      ]
     },
     "execution_count": 21,
     "metadata": {},
     "output_type": "execute_result"
    }
   ],
   "source": [
    "np.array(l) # this list converd in numpy array"
   ]
  },
  {
   "cell_type": "code",
   "execution_count": 22,
   "metadata": {},
   "outputs": [],
   "source": [
    "# another be han"
   ]
  },
  {
   "cell_type": "code",
   "execution_count": 25,
   "metadata": {},
   "outputs": [
    {
     "data": {
      "text/plain": [
       "array([ 1, 11, 21, 31, 41, 51, 61, 71, 81, 91])"
      ]
     },
     "execution_count": 25,
     "metadata": {},
     "output_type": "execute_result"
    }
   ],
   "source": [
    "x = np.arange(1,100,10)\n",
    "x"
   ]
  },
  {
   "cell_type": "code",
   "execution_count": 28,
   "metadata": {},
   "outputs": [
    {
     "data": {
      "text/plain": [
       "(10,)"
      ]
     },
     "execution_count": 28,
     "metadata": {},
     "output_type": "execute_result"
    }
   ],
   "source": [
    "x.shape"
   ]
  },
  {
   "cell_type": "code",
   "execution_count": 32,
   "metadata": {},
   "outputs": [
    {
     "data": {
      "text/plain": [
       "array([[0., 0., 0., 0., 0., 0., 0., 0., 0., 0.],\n",
       "       [0., 0., 0., 0., 0., 0., 0., 0., 0., 0.],\n",
       "       [0., 0., 0., 0., 0., 0., 0., 0., 0., 0.],\n",
       "       [0., 0., 0., 0., 0., 0., 0., 0., 0., 0.],\n",
       "       [0., 0., 0., 0., 0., 0., 0., 0., 0., 0.],\n",
       "       [0., 0., 0., 0., 0., 0., 0., 0., 0., 0.],\n",
       "       [0., 0., 0., 0., 0., 0., 0., 0., 0., 0.],\n",
       "       [0., 0., 0., 0., 0., 0., 0., 0., 0., 0.],\n",
       "       [0., 0., 0., 0., 0., 0., 0., 0., 0., 0.],\n",
       "       [0., 0., 0., 0., 0., 0., 0., 0., 0., 0.]])"
      ]
     },
     "execution_count": 32,
     "metadata": {},
     "output_type": "execute_result"
    }
   ],
   "source": [
    "s = np.zeros((10,10))\n",
    "s"
   ]
  },
  {
   "cell_type": "code",
   "execution_count": 33,
   "metadata": {},
   "outputs": [
    {
     "data": {
      "text/plain": [
       "array([[[[0., 0., 0., 0., 0.],\n",
       "         [0., 0., 0., 0., 0.],\n",
       "         [0., 0., 0., 0., 0.],\n",
       "         [0., 0., 0., 0., 0.],\n",
       "         [0., 0., 0., 0., 0.]],\n",
       "\n",
       "        [[0., 0., 0., 0., 0.],\n",
       "         [0., 0., 0., 0., 0.],\n",
       "         [0., 0., 0., 0., 0.],\n",
       "         [0., 0., 0., 0., 0.],\n",
       "         [0., 0., 0., 0., 0.]]],\n",
       "\n",
       "\n",
       "       [[[0., 0., 0., 0., 0.],\n",
       "         [0., 0., 0., 0., 0.],\n",
       "         [0., 0., 0., 0., 0.],\n",
       "         [0., 0., 0., 0., 0.],\n",
       "         [0., 0., 0., 0., 0.]],\n",
       "\n",
       "        [[0., 0., 0., 0., 0.],\n",
       "         [0., 0., 0., 0., 0.],\n",
       "         [0., 0., 0., 0., 0.],\n",
       "         [0., 0., 0., 0., 0.],\n",
       "         [0., 0., 0., 0., 0.]]]])"
      ]
     },
     "execution_count": 33,
     "metadata": {},
     "output_type": "execute_result"
    }
   ],
   "source": [
    "s.reshape((2,2,5,5))"
   ]
  },
  {
   "cell_type": "markdown",
   "metadata": {},
   "source": [
    "# Vertication Add Subtract anything operation"
   ]
  },
  {
   "cell_type": "code",
   "execution_count": 34,
   "metadata": {},
   "outputs": [],
   "source": [
    "a = np.random.randn((10))"
   ]
  },
  {
   "cell_type": "code",
   "execution_count": 35,
   "metadata": {},
   "outputs": [],
   "source": [
    "b = np.random.randn((10))"
   ]
  },
  {
   "cell_type": "code",
   "execution_count": 36,
   "metadata": {},
   "outputs": [
    {
     "data": {
      "text/plain": [
       "array([ 0.63445529, -0.39802062, -1.80732035, -0.46576744, -0.55451588,\n",
       "       -0.02918323,  0.08468246, -0.03475528, -0.31735303, -1.05761643])"
      ]
     },
     "execution_count": 36,
     "metadata": {},
     "output_type": "execute_result"
    }
   ],
   "source": [
    "a"
   ]
  },
  {
   "cell_type": "code",
   "execution_count": 37,
   "metadata": {},
   "outputs": [
    {
     "data": {
      "text/plain": [
       "array([-0.11019138,  0.66257111,  0.27476206, -0.54303435, -1.08413669,\n",
       "       -1.86587821,  0.99581367, -2.76096368,  0.74265804, -1.18459581])"
      ]
     },
     "execution_count": 37,
     "metadata": {},
     "output_type": "execute_result"
    }
   ],
   "source": [
    "b"
   ]
  },
  {
   "cell_type": "code",
   "execution_count": 38,
   "metadata": {},
   "outputs": [
    {
     "data": {
      "text/plain": [
       "array([ 0.52426391,  0.26455049, -1.53255829, -1.00880178, -1.63865257,\n",
       "       -1.89506144,  1.08049613, -2.79571896,  0.42530502, -2.24221225])"
      ]
     },
     "execution_count": 38,
     "metadata": {},
     "output_type": "execute_result"
    }
   ],
   "source": [
    "a+b"
   ]
  },
  {
   "cell_type": "code",
   "execution_count": 39,
   "metadata": {},
   "outputs": [
    {
     "data": {
      "text/plain": [
       "array([ 0.74464667, -1.06059173, -2.08208242,  0.07726691,  0.52962081,\n",
       "        1.83669498, -0.91113121,  2.7262084 , -1.06001107,  0.12697938])"
      ]
     },
     "execution_count": 39,
     "metadata": {},
     "output_type": "execute_result"
    }
   ],
   "source": [
    "a-b"
   ]
  },
  {
   "cell_type": "code",
   "execution_count": 40,
   "metadata": {},
   "outputs": [
    {
     "data": {
      "text/plain": [
       "array([-0.0699115 , -0.26371696, -0.49658307,  0.25292772,  0.60117101,\n",
       "        0.05445235,  0.08432795,  0.09595806, -0.23568478,  1.252848  ])"
      ]
     },
     "execution_count": 40,
     "metadata": {},
     "output_type": "execute_result"
    }
   ],
   "source": [
    "a*b"
   ]
  },
  {
   "cell_type": "code",
   "execution_count": 41,
   "metadata": {},
   "outputs": [
    {
     "data": {
      "text/plain": [
       "array([ 1.26891058, -0.79604123, -3.61464071, -0.93153487, -1.10903176,\n",
       "       -0.05836646,  0.16936492, -0.06951056, -0.63470605, -2.11523287])"
      ]
     },
     "execution_count": 41,
     "metadata": {},
     "output_type": "execute_result"
    }
   ],
   "source": [
    "2*a"
   ]
  },
  {
   "cell_type": "code",
   "execution_count": 42,
   "metadata": {},
   "outputs": [
    {
     "data": {
      "text/plain": [
       "array([ True, False, False, False, False, False,  True, False, False,\n",
       "       False])"
      ]
     },
     "execution_count": 42,
     "metadata": {},
     "output_type": "execute_result"
    }
   ],
   "source": [
    "a>0"
   ]
  },
  {
   "cell_type": "code",
   "execution_count": 43,
   "metadata": {},
   "outputs": [],
   "source": [
    "# ab yahe mujha element dekhynai han kae konsi value han jo barii han"
   ]
  },
  {
   "cell_type": "code",
   "execution_count": 45,
   "metadata": {},
   "outputs": [
    {
     "data": {
      "text/plain": [
       "array([0.63445529, 0.08468246])"
      ]
     },
     "execution_count": 45,
     "metadata": {},
     "output_type": "execute_result"
    }
   ],
   "source": [
    "a[a>0]"
   ]
  },
  {
   "cell_type": "markdown",
   "metadata": {},
   "source": [
    "# Indexing and Slicing"
   ]
  },
  {
   "cell_type": "code",
   "execution_count": 46,
   "metadata": {},
   "outputs": [],
   "source": [
    "b = np.array([1,2,4,5,8,6])"
   ]
  },
  {
   "cell_type": "code",
   "execution_count": 48,
   "metadata": {},
   "outputs": [
    {
     "data": {
      "text/plain": [
       "8"
      ]
     },
     "execution_count": 48,
     "metadata": {},
     "output_type": "execute_result"
    }
   ],
   "source": [
    "b[4] # ya index kii value check kare han"
   ]
  },
  {
   "cell_type": "code",
   "execution_count": 51,
   "metadata": {},
   "outputs": [
    {
     "data": {
      "text/plain": [
       "array([False, False, False, False,  True,  True])"
      ]
     },
     "execution_count": 51,
     "metadata": {},
     "output_type": "execute_result"
    }
   ],
   "source": [
    "b > 5 # jaha jaha 5 say bara han waha  ture ha baqii sub false han"
   ]
  },
  {
   "cell_type": "code",
   "execution_count": 54,
   "metadata": {},
   "outputs": [
    {
     "data": {
      "text/plain": [
       "array([4, 2])"
      ]
     },
     "execution_count": 54,
     "metadata": {},
     "output_type": "execute_result"
    }
   ],
   "source": [
    "b[[2,1]] # this are fancy indexing list pass kare or jaha wo values han wo number a rahay hayn"
   ]
  },
  {
   "cell_type": "markdown",
   "metadata": {},
   "source": [
    "# slicing "
   ]
  },
  {
   "cell_type": "code",
   "execution_count": 55,
   "metadata": {},
   "outputs": [],
   "source": [
    "s = np.random.randn(10,10)"
   ]
  },
  {
   "cell_type": "code",
   "execution_count": 56,
   "metadata": {},
   "outputs": [
    {
     "data": {
      "text/plain": [
       "array([[-1.97463137e-01, -5.48454152e-01, -2.80812292e-03,\n",
       "        -1.80277411e+00,  1.04389841e-01, -1.00140810e+00,\n",
       "        -3.44047733e-01,  1.59430576e-02,  7.24247074e-01,\n",
       "         1.09418171e+00],\n",
       "       [ 8.02585426e-01, -1.35283220e+00,  6.99936356e-01,\n",
       "         2.11413109e+00, -5.83607035e-01, -7.11109924e-01,\n",
       "         4.33078323e-01, -8.64582927e-01,  1.48840956e-04,\n",
       "        -2.49997164e+00],\n",
       "       [-7.18204262e-01,  8.60414419e-01, -6.20130969e-01,\n",
       "         1.29363055e+00,  4.40725117e-01, -8.11663977e-01,\n",
       "         3.92290285e-01,  9.96921702e-01,  5.63553116e-01,\n",
       "         5.11864802e-01],\n",
       "       [ 5.15948230e-01, -1.78815028e+00,  1.11027204e+00,\n",
       "        -2.02900696e+00,  1.94846028e+00, -6.13254269e-01,\n",
       "         7.50241687e-01,  5.22512440e-01,  4.59613793e-02,\n",
       "        -5.72801649e-01],\n",
       "       [-2.10739473e-01, -1.64729163e+00, -6.54689306e-01,\n",
       "        -2.46736970e+00, -2.18771745e+00,  5.51709988e-02,\n",
       "        -1.22714670e+00, -3.04959714e+00, -2.94815912e-01,\n",
       "        -1.06499122e+00],\n",
       "       [ 1.54421840e+00, -1.12957610e-01, -1.37449786e+00,\n",
       "        -7.61797071e-01, -4.60217617e-01, -1.99526622e+00,\n",
       "         4.40237129e-01, -1.18366968e+00, -9.20025278e-01,\n",
       "        -4.29328388e-01],\n",
       "       [-7.97434009e-01, -1.14481024e+00, -1.40058520e+00,\n",
       "        -6.84050606e-01, -9.79965123e-01,  2.08520335e+00,\n",
       "        -1.30754730e+00, -7.56837905e-01,  2.38977448e-01,\n",
       "        -6.22858982e-01],\n",
       "       [-7.02468300e-01, -1.06657248e-01,  6.48885167e-01,\n",
       "        -2.45573290e-01, -1.78232333e+00,  1.06278504e+00,\n",
       "        -2.02396561e+00,  2.06112051e+00, -2.47504058e-01,\n",
       "         8.30720893e-01],\n",
       "       [-3.88994579e-01, -5.27290576e-01,  5.38064478e-01,\n",
       "        -9.64322603e-01, -1.79702147e+00,  3.69313914e-01,\n",
       "         4.19752675e-01, -1.92719665e+00,  1.49532660e+00,\n",
       "        -1.87286030e+00],\n",
       "       [ 1.55990041e-01, -5.16380511e-01,  3.97543023e-02,\n",
       "         4.31682829e-01, -2.13962683e-01,  5.75588975e-01,\n",
       "        -4.46258247e-01,  7.77042017e-01, -4.31945302e-01,\n",
       "        -1.07454451e+00]])"
      ]
     },
     "execution_count": 56,
     "metadata": {},
     "output_type": "execute_result"
    }
   ],
   "source": [
    "s"
   ]
  },
  {
   "cell_type": "code",
   "execution_count": 59,
   "metadata": {},
   "outputs": [
    {
     "data": {
      "text/plain": [
       "-0.5836070349294393"
      ]
     },
     "execution_count": 59,
     "metadata": {},
     "output_type": "execute_result"
    }
   ],
   "source": [
    "s[1][4]"
   ]
  },
  {
   "cell_type": "code",
   "execution_count": 61,
   "metadata": {},
   "outputs": [
    {
     "data": {
      "text/plain": [
       "array([ 8.02585426e-01, -1.35283220e+00,  6.99936356e-01,  2.11413109e+00,\n",
       "       -5.83607035e-01, -7.11109924e-01,  4.33078323e-01, -8.64582927e-01,\n",
       "        1.48840956e-04, -2.49997164e+00])"
      ]
     },
     "execution_count": 61,
     "metadata": {},
     "output_type": "execute_result"
    }
   ],
   "source": [
    "s[1]"
   ]
  },
  {
   "cell_type": "code",
   "execution_count": 62,
   "metadata": {},
   "outputs": [
    {
     "data": {
      "text/plain": [
       "array([[ 8.02585426e-01, -1.35283220e+00,  6.99936356e-01,\n",
       "         2.11413109e+00, -5.83607035e-01, -7.11109924e-01,\n",
       "         4.33078323e-01, -8.64582927e-01,  1.48840956e-04,\n",
       "        -2.49997164e+00],\n",
       "       [ 5.15948230e-01, -1.78815028e+00,  1.11027204e+00,\n",
       "        -2.02900696e+00,  1.94846028e+00, -6.13254269e-01,\n",
       "         7.50241687e-01,  5.22512440e-01,  4.59613793e-02,\n",
       "        -5.72801649e-01],\n",
       "       [ 1.54421840e+00, -1.12957610e-01, -1.37449786e+00,\n",
       "        -7.61797071e-01, -4.60217617e-01, -1.99526622e+00,\n",
       "         4.40237129e-01, -1.18366968e+00, -9.20025278e-01,\n",
       "        -4.29328388e-01],\n",
       "       [-7.02468300e-01, -1.06657248e-01,  6.48885167e-01,\n",
       "        -2.45573290e-01, -1.78232333e+00,  1.06278504e+00,\n",
       "        -2.02396561e+00,  2.06112051e+00, -2.47504058e-01,\n",
       "         8.30720893e-01],\n",
       "       [ 1.55990041e-01, -5.16380511e-01,  3.97543023e-02,\n",
       "         4.31682829e-01, -2.13962683e-01,  5.75588975e-01,\n",
       "        -4.46258247e-01,  7.77042017e-01, -4.31945302e-01,\n",
       "        -1.07454451e+00]])"
      ]
     },
     "execution_count": 62,
     "metadata": {},
     "output_type": "execute_result"
    }
   ],
   "source": [
    "s[1:10:2]"
   ]
  },
  {
   "cell_type": "code",
   "execution_count": 85,
   "metadata": {},
   "outputs": [],
   "source": [
    "t = np.ones((5,5))"
   ]
  },
  {
   "cell_type": "code",
   "execution_count": 86,
   "metadata": {},
   "outputs": [
    {
     "data": {
      "text/plain": [
       "array([[1., 1., 1., 1., 1.],\n",
       "       [1., 1., 1., 1., 1.],\n",
       "       [1., 1., 1., 1., 1.],\n",
       "       [1., 1., 1., 1., 1.],\n",
       "       [1., 1., 1., 1., 1.]])"
      ]
     },
     "execution_count": 86,
     "metadata": {},
     "output_type": "execute_result"
    }
   ],
   "source": [
    "t"
   ]
  },
  {
   "cell_type": "code",
   "execution_count": 83,
   "metadata": {},
   "outputs": [],
   "source": [
    "t[1:-1,1:-1] = 0"
   ]
  },
  {
   "cell_type": "code",
   "execution_count": 84,
   "metadata": {},
   "outputs": [
    {
     "data": {
      "text/plain": [
       "array([[1., 1., 0., 0., 0.],\n",
       "       [1., 0., 0., 0., 0.],\n",
       "       [1., 0., 0., 0., 0.],\n",
       "       [1., 0., 0., 0., 0.],\n",
       "       [1., 1., 1., 1., 1.]])"
      ]
     },
     "execution_count": 84,
     "metadata": {},
     "output_type": "execute_result"
    }
   ],
   "source": [
    "t"
   ]
  },
  {
   "cell_type": "code",
   "execution_count": 90,
   "metadata": {},
   "outputs": [],
   "source": [
    "t[1:4,2:4] = 0"
   ]
  },
  {
   "cell_type": "code",
   "execution_count": 91,
   "metadata": {},
   "outputs": [
    {
     "data": {
      "text/plain": [
       "array([[1., 1., 1., 1., 1.],\n",
       "       [1., 0., 0., 0., 1.],\n",
       "       [1., 0., 0., 0., 1.],\n",
       "       [1., 0., 0., 0., 1.],\n",
       "       [1., 1., 1., 1., 1.]])"
      ]
     },
     "execution_count": 91,
     "metadata": {},
     "output_type": "execute_result"
    }
   ],
   "source": [
    "t"
   ]
  },
  {
   "cell_type": "markdown",
   "metadata": {},
   "source": [
    "t[1:4,2:4] = 0"
   ]
  },
  {
   "cell_type": "code",
   "execution_count": 94,
   "metadata": {},
   "outputs": [],
   "source": [
    "t[1:4,2:4] = 5"
   ]
  },
  {
   "cell_type": "code",
   "execution_count": 95,
   "metadata": {},
   "outputs": [
    {
     "data": {
      "text/plain": [
       "array([[1., 1., 1., 1., 1.],\n",
       "       [1., 0., 5., 5., 1.],\n",
       "       [1., 0., 5., 5., 1.],\n",
       "       [1., 0., 5., 5., 1.],\n",
       "       [1., 1., 1., 1., 1.]])"
      ]
     },
     "execution_count": 95,
     "metadata": {},
     "output_type": "execute_result"
    }
   ],
   "source": [
    "t"
   ]
  },
  {
   "cell_type": "code",
   "execution_count": 2,
   "metadata": {},
   "outputs": [],
   "source": [
    "x = np.random.randn(3,2)"
   ]
  },
  {
   "cell_type": "code",
   "execution_count": 3,
   "metadata": {},
   "outputs": [],
   "source": [
    "y = np.random.randn(2,3)"
   ]
  },
  {
   "cell_type": "code",
   "execution_count": 4,
   "metadata": {},
   "outputs": [
    {
     "data": {
      "text/plain": [
       "array([[-0.71526435, -1.0135794 ,  1.88523509],\n",
       "       [-2.97735182, -2.2814238 ,  4.77900452],\n",
       "       [-1.72235887, -0.78113544,  1.91162392]])"
      ]
     },
     "execution_count": 4,
     "metadata": {},
     "output_type": "execute_result"
    }
   ],
   "source": [
    "x.dot(y)"
   ]
  },
  {
   "cell_type": "code",
   "execution_count": 6,
   "metadata": {},
   "outputs": [
    {
     "data": {
      "text/plain": [
       "array([[ 1.0441702 ,  0.47543884, -0.80102679],\n",
       "       [ 0.18697173,  1.59154704,  1.1467587 ]])"
      ]
     },
     "execution_count": 6,
     "metadata": {},
     "output_type": "execute_result"
    }
   ],
   "source": [
    "x.transpose() # 3 by 2 ka martix 2 by 3 ma convert ho gaya"
   ]
  },
  {
   "cell_type": "code",
   "execution_count": 7,
   "metadata": {},
   "outputs": [
    {
     "data": {
      "text/plain": [
       "2.635717233514753"
      ]
     },
     "execution_count": 7,
     "metadata": {},
     "output_type": "execute_result"
    }
   ],
   "source": [
    "x.trace()"
   ]
  },
  {
   "cell_type": "code",
   "execution_count": 8,
   "metadata": {},
   "outputs": [],
   "source": [
    "# jub be hum machine learnong par kaam karty han tu huma data kii bise nes khtm karnay kae liya randonly data genrate karna hota han"
   ]
  },
  {
   "cell_type": "code",
   "execution_count": 15,
   "metadata": {},
   "outputs": [
    {
     "data": {
      "text/plain": [
       "array([[-0.38989119,  1.90778163,  1.83299467],\n",
       "       [ 0.76641194,  1.23006194,  1.01365963],\n",
       "       [ 1.72035759,  0.23467499, -0.92752224]])"
      ]
     },
     "execution_count": 15,
     "metadata": {},
     "output_type": "execute_result"
    }
   ],
   "source": [
    "np.random.normal(size=(3,3))"
   ]
  },
  {
   "cell_type": "code",
   "execution_count": 18,
   "metadata": {},
   "outputs": [
    {
     "data": {
      "text/plain": [
       "array([[0.11406533, 0.27999987, 0.61992026, 0.21906784],\n",
       "       [0.9802927 , 0.65437785, 0.36349527, 0.45511942],\n",
       "       [0.57935531, 0.36934461, 0.9656798 , 0.9517539 ]])"
      ]
     },
     "execution_count": 18,
     "metadata": {},
     "output_type": "execute_result"
    }
   ],
   "source": [
    "np.random.uniform(size=(3,4))"
   ]
  },
  {
   "cell_type": "markdown",
   "metadata": {},
   "source": [
    "# Numpy Advances Array Manipulation"
   ]
  },
  {
   "cell_type": "markdown",
   "metadata": {},
   "source": [
    "# Reshape"
   ]
  },
  {
   "cell_type": "code",
   "execution_count": 21,
   "metadata": {},
   "outputs": [],
   "source": [
    "x = np.random.randn(4,5)"
   ]
  },
  {
   "cell_type": "code",
   "execution_count": 22,
   "metadata": {},
   "outputs": [
    {
     "data": {
      "text/plain": [
       "array([[ 0.53866319, -1.55353416,  0.10309869,  2.18050789,  1.25743076],\n",
       "       [ 1.0417212 ,  1.07288052, -0.48288338,  0.6435315 ,  1.18496351],\n",
       "       [-1.57881695,  0.81244275,  0.35746243, -0.42384212, -0.2103324 ],\n",
       "       [-0.26263973,  0.17047128, -1.0049597 ,  0.89536735, -0.09857476]])"
      ]
     },
     "execution_count": 22,
     "metadata": {},
     "output_type": "execute_result"
    }
   ],
   "source": [
    "x"
   ]
  },
  {
   "cell_type": "code",
   "execution_count": 23,
   "metadata": {},
   "outputs": [
    {
     "data": {
      "text/plain": [
       "array([[[ 0.53866319, -1.55353416,  0.10309869,  2.18050789,\n",
       "          1.25743076],\n",
       "        [ 1.0417212 ,  1.07288052, -0.48288338,  0.6435315 ,\n",
       "          1.18496351]],\n",
       "\n",
       "       [[-1.57881695,  0.81244275,  0.35746243, -0.42384212,\n",
       "         -0.2103324 ],\n",
       "        [-0.26263973,  0.17047128, -1.0049597 ,  0.89536735,\n",
       "         -0.09857476]]])"
      ]
     },
     "execution_count": 23,
     "metadata": {},
     "output_type": "execute_result"
    }
   ],
   "source": [
    "x.reshape(2,2,5)"
   ]
  },
  {
   "cell_type": "code",
   "execution_count": 24,
   "metadata": {},
   "outputs": [
    {
     "data": {
      "text/plain": [
       "array([[[ 0.53866319, -1.55353416,  0.10309869,  2.18050789,\n",
       "          1.25743076],\n",
       "        [ 1.0417212 ,  1.07288052, -0.48288338,  0.6435315 ,\n",
       "          1.18496351]],\n",
       "\n",
       "       [[-1.57881695,  0.81244275,  0.35746243, -0.42384212,\n",
       "         -0.2103324 ],\n",
       "        [-0.26263973,  0.17047128, -1.0049597 ,  0.89536735,\n",
       "         -0.09857476]]])"
      ]
     },
     "execution_count": 24,
     "metadata": {},
     "output_type": "execute_result"
    }
   ],
   "source": [
    "x.reshape(2,2,-1)"
   ]
  },
  {
   "cell_type": "code",
   "execution_count": 26,
   "metadata": {},
   "outputs": [
    {
     "data": {
      "text/plain": [
       "array([ 0.53866319, -1.55353416,  0.10309869,  2.18050789,  1.25743076,\n",
       "        1.0417212 ,  1.07288052, -0.48288338,  0.6435315 ,  1.18496351,\n",
       "       -1.57881695,  0.81244275,  0.35746243, -0.42384212, -0.2103324 ,\n",
       "       -0.26263973,  0.17047128, -1.0049597 ,  0.89536735, -0.09857476])"
      ]
     },
     "execution_count": 26,
     "metadata": {},
     "output_type": "execute_result"
    }
   ],
   "source": [
    "x.ravel() # array one dimension ma convert ho jatiii han"
   ]
  },
  {
   "cell_type": "markdown",
   "metadata": {},
   "source": [
    "# Concatenate"
   ]
  },
  {
   "cell_type": "code",
   "execution_count": 28,
   "metadata": {},
   "outputs": [],
   "source": [
    "x = [[1,3,5,6],[7,8,9,4]]"
   ]
  },
  {
   "cell_type": "code",
   "execution_count": 29,
   "metadata": {},
   "outputs": [],
   "source": [
    "arr1 = np.array(x)"
   ]
  },
  {
   "cell_type": "code",
   "execution_count": 30,
   "metadata": {},
   "outputs": [
    {
     "data": {
      "text/plain": [
       "array([[1, 3, 5, 6],\n",
       "       [7, 8, 9, 4]])"
      ]
     },
     "execution_count": 30,
     "metadata": {},
     "output_type": "execute_result"
    }
   ],
   "source": [
    "arr1"
   ]
  },
  {
   "cell_type": "code",
   "execution_count": 31,
   "metadata": {},
   "outputs": [],
   "source": [
    "y = [[11,13,15,19],[17,19,15,16]]"
   ]
  },
  {
   "cell_type": "code",
   "execution_count": 32,
   "metadata": {},
   "outputs": [],
   "source": [
    "arry = np.array(y)"
   ]
  },
  {
   "cell_type": "code",
   "execution_count": 33,
   "metadata": {},
   "outputs": [
    {
     "data": {
      "text/plain": [
       "array([[11, 13, 15, 19],\n",
       "       [17, 19, 15, 16]])"
      ]
     },
     "execution_count": 33,
     "metadata": {},
     "output_type": "execute_result"
    }
   ],
   "source": [
    "arry"
   ]
  },
  {
   "cell_type": "code",
   "execution_count": 35,
   "metadata": {},
   "outputs": [
    {
     "data": {
      "text/plain": [
       "array([[ 1,  3,  5,  6],\n",
       "       [ 7,  8,  9,  4],\n",
       "       [11, 13, 15, 19],\n",
       "       [17, 19, 15, 16]])"
      ]
     },
     "execution_count": 35,
     "metadata": {},
     "output_type": "execute_result"
    }
   ],
   "source": [
    "np.concatenate((arr1,arry),axis=0) # row vise concatente ho raha han"
   ]
  },
  {
   "cell_type": "code",
   "execution_count": 36,
   "metadata": {},
   "outputs": [
    {
     "data": {
      "text/plain": [
       "array([[ 1,  3,  5,  6, 11, 13, 15, 19],\n",
       "       [ 7,  8,  9,  4, 17, 19, 15, 16]])"
      ]
     },
     "execution_count": 36,
     "metadata": {},
     "output_type": "execute_result"
    }
   ],
   "source": [
    "np.concatenate((arr1,arry),axis=1)"
   ]
  },
  {
   "cell_type": "markdown",
   "metadata": {},
   "source": [
    "# Split"
   ]
  },
  {
   "cell_type": "code",
   "execution_count": 2,
   "metadata": {},
   "outputs": [],
   "source": [
    "x = [1,2,3,4,5,6,7,8,9,10]"
   ]
  },
  {
   "cell_type": "code",
   "execution_count": 3,
   "metadata": {},
   "outputs": [],
   "source": [
    "d = np.array(x)"
   ]
  },
  {
   "cell_type": "code",
   "execution_count": 4,
   "metadata": {},
   "outputs": [
    {
     "data": {
      "text/plain": [
       "[array([1, 2]), array([3, 4, 5, 6]), array([ 7,  8,  9, 10])]"
      ]
     },
     "execution_count": 4,
     "metadata": {},
     "output_type": "execute_result"
    }
   ],
   "source": [
    "np.split(d,[2,6])"
   ]
  },
  {
   "cell_type": "code",
   "execution_count": 5,
   "metadata": {},
   "outputs": [],
   "source": [
    "x = [[10,20,30,40,50],[60,70,80,90,100]]"
   ]
  },
  {
   "cell_type": "code",
   "execution_count": 6,
   "metadata": {},
   "outputs": [],
   "source": [
    "s = np.array(x)"
   ]
  },
  {
   "cell_type": "code",
   "execution_count": 9,
   "metadata": {},
   "outputs": [
    {
     "data": {
      "text/plain": [
       "[array([[ 10,  20,  30,  40,  50],\n",
       "        [ 60,  70,  80,  90, 100]]),\n",
       " array([], shape=(0, 5), dtype=int32),\n",
       " array([], shape=(0, 5), dtype=int32)]"
      ]
     },
     "execution_count": 9,
     "metadata": {},
     "output_type": "execute_result"
    }
   ],
   "source": [
    "np.split(s,[4,2])"
   ]
  },
  {
   "cell_type": "markdown",
   "metadata": {},
   "source": [
    "# Tilte And Report"
   ]
  },
  {
   "cell_type": "code",
   "execution_count": 10,
   "metadata": {},
   "outputs": [],
   "source": [
    "d = np.array([1,5,7,8,9])"
   ]
  },
  {
   "cell_type": "code",
   "execution_count": 11,
   "metadata": {},
   "outputs": [
    {
     "data": {
      "text/plain": [
       "array([1, 1, 1, 5, 5, 5, 7, 7, 7, 8, 8, 8, 9, 9, 9])"
      ]
     },
     "execution_count": 11,
     "metadata": {},
     "output_type": "execute_result"
    }
   ],
   "source": [
    "np.repeat(d,3)"
   ]
  },
  {
   "cell_type": "code",
   "execution_count": 12,
   "metadata": {},
   "outputs": [
    {
     "data": {
      "text/plain": [
       "array([1, 5, 7, 8, 9, 1, 5, 7, 8, 9])"
      ]
     },
     "execution_count": 12,
     "metadata": {},
     "output_type": "execute_result"
    }
   ],
   "source": [
    "np.tile(d,2)"
   ]
  },
  {
   "cell_type": "code",
   "execution_count": null,
   "metadata": {},
   "outputs": [],
   "source": []
  }
 ],
 "metadata": {
  "kernelspec": {
   "display_name": "Python 3",
   "language": "python",
   "name": "python3"
  },
  "language_info": {
   "codemirror_mode": {
    "name": "ipython",
    "version": 3
   },
   "file_extension": ".py",
   "mimetype": "text/x-python",
   "name": "python",
   "nbconvert_exporter": "python",
   "pygments_lexer": "ipython3",
   "version": "3.7.3"
  }
 },
 "nbformat": 4,
 "nbformat_minor": 2
}
